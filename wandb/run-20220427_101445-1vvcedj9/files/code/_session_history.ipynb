{
 "cells": [
  {
   "cell_type": "code",
   "execution_count": 1,
   "id": "3114abde",
   "metadata": {},
   "outputs": [],
   "source": [
    "import torch\n",
    "import os\n",
    "import cv2\n",
    "import torch.nn as nn\n",
    "import torch.nn.functional as F\n",
    "import numpy as np\n",
    "from sklearn.model_selection import train_test_split\n",
    "from PIL import Image\n",
    "import torchvision\n",
    "from torchvision import transforms\n",
    "from tqdm import tqdm\n",
    "PROJECT_NAME = \"Intel-Classification-V3\"\n",
    "device = 'cuda'"
   ]
  },
  {
   "cell_type": "code",
   "execution_count": 2,
   "id": "6c4d6639",
   "metadata": {},
   "outputs": [],
   "source": [
    "transformation_data = transforms.Compose([\n",
    "    transforms.RandomHorizontalFlip(p=0.5),\n",
    "    transforms.ToTensor()\n",
    "])"
   ]
  },
  {
   "cell_type": "code",
   "execution_count": 3,
   "id": "f3d4d2ff",
   "metadata": {},
   "outputs": [],
   "source": [
    "img = cv2.imread('./data/buildings/0.jpg')"
   ]
  },
  {
   "cell_type": "code",
   "execution_count": 4,
   "id": "ecdae9fe",
   "metadata": {},
   "outputs": [],
   "source": [
    "img_pil_image = Image.fromarray(img)\n",
    "# transformation_data(img_pil_image)"
   ]
  },
  {
   "cell_type": "code",
   "execution_count": 5,
   "id": "9fcac22c",
   "metadata": {},
   "outputs": [
    {
     "name": "stdout",
     "output_type": "stream",
     "text": [
      "array([[1., 0., 0., 0., 0.],\n",
      "       [0., 1., 0., 0., 0.],\n",
      "       [0., 0., 1., 0., 0.],\n",
      "       [0., 0., 0., 1., 0.],\n",
      "       [0., 0., 0., 0., 1.]])"
     ]
    }
   ],
   "source": [
    "np.eye(5,5)"
   ]
  },
  {
   "cell_type": "code",
   "execution_count": 6,
   "id": "1764675d",
   "metadata": {},
   "outputs": [],
   "source": [
    "def load_image(data_dir=\"./data/\"):\n",
    "    labels = {}\n",
    "    labels_r = {}\n",
    "    idx = -1\n",
    "    data = []\n",
    "    for label in os.listdir(data_dir):\n",
    "        idx += 1\n",
    "        labels[label] = idx\n",
    "        labels_r[idx] = label\n",
    "    for directory in tqdm(os.listdir(data_dir)):\n",
    "        for file_dir in os.listdir(data_dir + directory):\n",
    "            img = cv2.imread(data_dir + directory + \"/\" + file_dir)\n",
    "            img = cv2.resize(img,(56,56))\n",
    "            data.append([np.array(transformation_data(Image.fromarray(img))),np.eye(labels[directory]+1,idx+1)[-1]])\n",
    "    np.random.shuffle(data)\n",
    "    data = data[:5000]\n",
    "    X = []\n",
    "    y = []\n",
    "    for d_iter in data:\n",
    "        X.append(d_iter[0])\n",
    "        y.append(d_iter[1])\n",
    "    X_train,X_test,y_train,y_test = train_test_split(X,y,test_size=0.25,shuffle=True)\n",
    "    X_train = torch.from_numpy(np.array(X_train)).to(device)\n",
    "    y_train = torch.from_numpy(np.array(y_train)).to(device)\n",
    "    X_test = torch.from_numpy(np.array(X_test)).to(device)\n",
    "    y_test = torch.from_numpy(np.array(y_test)).to(device)\n",
    "    return labels,labels_r,data,X,y,X_train,X_test,y_train,y_test,idx"
   ]
  },
  {
   "cell_type": "code",
   "execution_count": 7,
   "id": "477f6e93",
   "metadata": {},
   "outputs": [],
   "source": [
    "labels,labels_r,data,X,y,X_train,X_test,y_train,y_test,idx = load_image()"
   ]
  },
  {
   "cell_type": "code",
   "execution_count": 8,
   "id": "d06a90fe",
   "metadata": {},
   "outputs": [],
   "source": [
    "torch.save(labels,'./save/labels.pt')\n",
    "torch.save(labels,'./save/labels.pth')\n",
    "torch.save(labels_r,'./save/labels_r.pt')\n",
    "torch.save(labels_r,'./save/labels_r.pth')\n",
    "torch.save(data,'./save/data.pt')\n",
    "torch.save(data,'./save/data.pth')\n",
    "torch.save(X,'./save/X.pt')\n",
    "torch.save(y,'./save/y.pth')\n",
    "torch.save(X_train,'./save/X_train.pt')\n",
    "torch.save(X_test,'./save/X_test.pth')\n",
    "torch.save(y_train,'./save/y_train.pt')\n",
    "torch.save(y_test,'./save/y_test.pth')"
   ]
  },
  {
   "cell_type": "code",
   "execution_count": 9,
   "id": "394cf78c",
   "metadata": {},
   "outputs": [
    {
     "name": "stdout",
     "output_type": "stream",
     "text": [
      "(3750, 1250, 3750, 1250)"
     ]
    }
   ],
   "source": [
    "len(X_train),len(X_test),len(y_train),len(y_test)"
   ]
  },
  {
   "cell_type": "code",
   "execution_count": 10,
   "id": "d5103766",
   "metadata": {},
   "outputs": [],
   "source": [
    "def get_loss(model,X,y,criterion):\n",
    "    preds = model(X)\n",
    "    loss = criterion(preds,y)\n",
    "    return loss.item()"
   ]
  },
  {
   "cell_type": "code",
   "execution_count": 11,
   "id": "502856e1",
   "metadata": {},
   "outputs": [],
   "source": [
    "def get_accuracy(model,X,y):\n",
    "    total = 0\n",
    "    correct = 0\n",
    "    preds = model(X)\n",
    "    for y_iter,pred in zip(y,preds):\n",
    "        y_iter = torch.argmax(y_iter)\n",
    "        pred = torch.argmax(pred)\n",
    "        if pred == y_iter:\n",
    "            correct += 1\n",
    "        total += 1\n",
    "    return round(correct/total,3)"
   ]
  },
  {
   "cell_type": "code",
   "execution_count": 12,
   "id": "1abdd324",
   "metadata": {},
   "outputs": [],
   "source": [
    "from torch.nn import *"
   ]
  },
  {
   "cell_type": "code",
   "execution_count": 13,
   "id": "b0f6197c",
   "metadata": {},
   "outputs": [],
   "source": [
    "class Model(nn.Module):\n",
    "    def __init__(self):\n",
    "        super().__init__()\n",
    "        self.max_pool2d = F.max_pool2d\n",
    "        self.relu = ReLU()\n",
    "        self.conv1 = Conv2d(3,9,3)\n",
    "        self.conv2 = Conv2d(9,12,3)\n",
    "        self.convbatch_norm3 = BatchNorm2d(12)\n",
    "        self.conv4 = Conv2d(12,15,3)\n",
    "        self.conv5 = Conv2d(15,18,3)\n",
    "        self.linear1 = Linear(18*12*12,128)\n",
    "        self.linear2 = Linear(128,256)\n",
    "        self.linearbatchnorm3 = BatchNorm1d(256)\n",
    "        self.linear4 = Linear(256,128)\n",
    "        self.linear5 = Linear(128,idx)\n",
    "    \n",
    "    def forward(self,X):\n",
    "        preds = self.max_pool2d(self.relu(self.conv1(X)))\n",
    "        preds = self.max_pool2d(self.relu(self.conv2(preds)))\n",
    "        preds = self.convbatch_norm3(preds)\n",
    "        preds = self.max_pool2d(self.relu(self.conv4(preds)))\n",
    "        preds = self.max_pool2d(self.relu(self.conv5(preds)))\n",
    "        print(preds.shape)\n",
    "        preds = preds.view(-1,18*12*12)\n",
    "        preds = self.relu(self.linear1(preds))\n",
    "        preds = self.relu(self.linear2(preds))\n",
    "        preds = self.linearbatchnorm3(preds)\n",
    "        preds = self.relu(self.linear4(preds))\n",
    "        preds = self.relu(self.linear5(preds))\n",
    "        return preds"
   ]
  },
  {
   "cell_type": "code",
   "execution_count": 14,
   "id": "5c00cbae",
   "metadata": {},
   "outputs": [],
   "source": [
    "model = Model().to(device)\n",
    "criterion = nn.MSELoss()\n",
    "optimizer = torch.optim.Adam(model.parameters(),lr=0.001)\n",
    "batch_size = 32\n",
    "epochs = 100"
   ]
  },
  {
   "cell_type": "code",
   "execution_count": 15,
   "id": "c1143df3",
   "metadata": {},
   "outputs": [],
   "source": [
    "wandb.init(project=PROJECT_NAME,name=\"BaseLine\")\n",
    "for _ in tqdm(range(epochs)):\n",
    "    for idx in range(0,len(X_train),batch_size):\n",
    "        X_batch = X_train[idx:idx+batch_size].view(-1,3,56,56).to(device)\n",
    "        y_batch = y_train[idx:idx+batch_size].to(device)\n",
    "        preds = model(X_batch)\n",
    "        loss = criterion(preds,y_batch)\n",
    "        optimizer.zero_grad()\n",
    "        optimizer.step()\n",
    "        loss.backward()\n",
    "        wandb.log({\n",
    "            \"Test Loss\":get_loss(model,X_test,y_test),\n",
    "            \"Test Accuracy\":get_accuracy(model,X_test,y_test),\n",
    "            \"Accuracy\":get_accuracy(model,X_batch,y_batch),\n",
    "            \"Loss\":get_loss(model,X_batch,y_batch)\n",
    "        })"
   ]
  },
  {
   "cell_type": "code",
   "execution_count": 16,
   "id": "0130ab06",
   "metadata": {},
   "outputs": [],
   "source": [
    "import wandb"
   ]
  },
  {
   "cell_type": "code",
   "execution_count": 17,
   "id": "0a8a8433",
   "metadata": {},
   "outputs": [],
   "source": [
    "wandb.init(project=PROJECT_NAME,name=\"BaseLine\")\n",
    "for _ in tqdm(range(epochs)):\n",
    "    for idx in range(0,len(X_train),batch_size):\n",
    "        X_batch = X_train[idx:idx+batch_size].view(-1,3,56,56).to(device)\n",
    "        y_batch = y_train[idx:idx+batch_size].to(device)\n",
    "        preds = model(X_batch)\n",
    "        loss = criterion(preds,y_batch)\n",
    "        optimizer.zero_grad()\n",
    "        optimizer.step()\n",
    "        loss.backward()\n",
    "        wandb.log({\n",
    "            \"Test Loss\":get_loss(model,X_test,y_test),\n",
    "            \"Test Accuracy\":get_accuracy(model,X_test,y_test),\n",
    "            \"Accuracy\":get_accuracy(model,X_batch,y_batch),\n",
    "            \"Loss\":get_loss(model,X_batch,y_batch)\n",
    "        })"
   ]
  },
  {
   "cell_type": "code",
   "execution_count": 18,
   "id": "d8660179",
   "metadata": {},
   "outputs": [],
   "source": [
    "!pip3 install wandb"
   ]
  },
  {
   "cell_type": "code",
   "execution_count": 19,
   "id": "abac0c74",
   "metadata": {},
   "outputs": [],
   "source": [
    "wandb.init(project=PROJECT_NAME,name=\"BaseLine\")\n",
    "for _ in tqdm(range(epochs)):\n",
    "    for idx in range(0,len(X_train),batch_size):\n",
    "        X_batch = X_train[idx:idx+batch_size].view(-1,3,56,56).to(device)\n",
    "        y_batch = y_train[idx:idx+batch_size].to(device)\n",
    "        preds = model(X_batch)\n",
    "        loss = criterion(preds,y_batch)\n",
    "        optimizer.zero_grad()\n",
    "        optimizer.step()\n",
    "        loss.backward()\n",
    "        wandb.log({\n",
    "            \"Test Loss\":get_loss(model,X_test,y_test),\n",
    "            \"Test Accuracy\":get_accuracy(model,X_test,y_test),\n",
    "            \"Accuracy\":get_accuracy(model,X_batch,y_batch),\n",
    "            \"Loss\":get_loss(model,X_batch,y_batch)\n",
    "        })"
   ]
  },
  {
   "cell_type": "code",
   "execution_count": 20,
   "id": "45b0101c",
   "metadata": {},
   "outputs": [],
   "source": [
    "import wandb"
   ]
  },
  {
   "cell_type": "code",
   "execution_count": 21,
   "id": "c978be36",
   "metadata": {},
   "outputs": [],
   "source": [
    "wandb.init(project=PROJECT_NAME,name=\"BaseLine\")\n",
    "for _ in tqdm(range(epochs)):\n",
    "    for idx in range(0,len(X_train),batch_size):\n",
    "        X_batch = X_train[idx:idx+batch_size].view(-1,3,56,56).to(device)\n",
    "        y_batch = y_train[idx:idx+batch_size].to(device)\n",
    "        preds = model(X_batch)\n",
    "        loss = criterion(preds,y_batch)\n",
    "        optimizer.zero_grad()\n",
    "        optimizer.step()\n",
    "        loss.backward()\n",
    "        wandb.log({\n",
    "            \"Test Loss\":get_loss(model,X_test,y_test),\n",
    "            \"Test Accuracy\":get_accuracy(model,X_test,y_test),\n",
    "            \"Accuracy\":get_accuracy(model,X_batch,y_batch),\n",
    "            \"Loss\":get_loss(model,X_batch,y_batch)\n",
    "        })"
   ]
  },
  {
   "cell_type": "code",
   "execution_count": 22,
   "id": "98fe0b6a",
   "metadata": {},
   "outputs": [],
   "source": [
    "class Model(nn.Module):\n",
    "    def __init__(self):\n",
    "        super().__init__()\n",
    "        self.max_pool2d = F.max_pool2d\n",
    "        self.relu = ReLU()\n",
    "        self.conv1 = Conv2d(3,9,3)\n",
    "        self.conv2 = Conv2d(9,12,3)\n",
    "        self.convbatch_norm3 = BatchNorm2d(12)\n",
    "        self.conv4 = Conv2d(12,15,3)\n",
    "        self.conv5 = Conv2d(15,18,3)\n",
    "        self.linear1 = Linear(18*12*12,128)\n",
    "        self.linear2 = Linear(128,256)\n",
    "        self.linearbatchnorm3 = BatchNorm1d(256)\n",
    "        self.linear4 = Linear(256,128)\n",
    "        self.linear5 = Linear(128,idx)\n",
    "    \n",
    "    def forward(self,X):\n",
    "        preds = self.max_pool2d(self.relu(self.conv1(X)),(3,3))\n",
    "        preds = self.max_pool2d(self.relu(self.conv2(preds)),(3,3))\n",
    "        preds = self.convbatch_norm3(preds)\n",
    "        preds = self.max_pool2d(self.relu(self.conv4(preds)),(3,3))\n",
    "        preds = self.max_pool2d(self.relu(self.conv5(preds)),(3,3))\n",
    "        print(preds.shape)\n",
    "        preds = preds.view(-1,18*12*12)\n",
    "        preds = self.relu(self.linear1(preds))\n",
    "        preds = self.relu(self.linear2(preds))\n",
    "        preds = self.linearbatchnorm3(preds)\n",
    "        preds = self.relu(self.linear4(preds))\n",
    "        preds = self.relu(self.linear5(preds))\n",
    "        return preds"
   ]
  },
  {
   "cell_type": "code",
   "execution_count": 23,
   "id": "9b0efd46",
   "metadata": {},
   "outputs": [],
   "source": [
    "model = Model().to(device)\n",
    "criterion = nn.MSELoss()\n",
    "optimizer = torch.optim.Adam(model.parameters(),lr=0.001)\n",
    "batch_size = 32\n",
    "epochs = 100"
   ]
  },
  {
   "cell_type": "code",
   "execution_count": 24,
   "id": "2ca2046d",
   "metadata": {},
   "outputs": [],
   "source": [
    "import wandb"
   ]
  },
  {
   "cell_type": "code",
   "execution_count": 25,
   "id": "0743a29a",
   "metadata": {},
   "outputs": [],
   "source": [
    "wandb.init(project=PROJECT_NAME,name=\"BaseLine\")\n",
    "for _ in tqdm(range(epochs)):\n",
    "    for idx in range(0,len(X_train),batch_size):\n",
    "        X_batch = X_train[idx:idx+batch_size].view(-1,3,56,56).to(device)\n",
    "        y_batch = y_train[idx:idx+batch_size].to(device)\n",
    "        preds = model(X_batch)\n",
    "        loss = criterion(preds,y_batch)\n",
    "        optimizer.zero_grad()\n",
    "        optimizer.step()\n",
    "        loss.backward()\n",
    "        wandb.log({\n",
    "            \"Test Loss\":get_loss(model,X_test,y_test),\n",
    "            \"Test Accuracy\":get_accuracy(model,X_test,y_test),\n",
    "            \"Accuracy\":get_accuracy(model,X_batch,y_batch),\n",
    "            \"Loss\":get_loss(model,X_batch,y_batch)\n",
    "        })"
   ]
  },
  {
   "cell_type": "code",
   "execution_count": 26,
   "id": "6be50b2d",
   "metadata": {},
   "outputs": [],
   "source": [
    "class Model(nn.Module):\n",
    "    def __init__(self):\n",
    "        super().__init__()\n",
    "        self.max_pool2d = F.max_pool2d\n",
    "        self.relu = ReLU()\n",
    "        self.conv1 = Conv2d(3,9,3)\n",
    "        self.conv2 = Conv2d(9,12,3)\n",
    "        self.convbatch_norm3 = BatchNorm2d(12)\n",
    "        self.conv4 = Conv2d(12,15,3)\n",
    "        self.conv5 = Conv2d(15,18,3)\n",
    "        self.linear1 = Linear(18*12*12,128)\n",
    "        self.linear2 = Linear(128,256)\n",
    "        self.linearbatchnorm3 = BatchNorm1d(256)\n",
    "        self.linear4 = Linear(256,128)\n",
    "        self.linear5 = Linear(128,idx)\n",
    "    \n",
    "    def forward(self,X):\n",
    "        preds = self.max_pool2d(self.relu(self.conv1(X)),(3,3))\n",
    "        preds = self.max_pool2d(self.relu(self.conv2(preds)),(3,3))\n",
    "        preds = self.convbatch_norm3(preds)\n",
    "        preds = self.max_pool2d(self.relu(self.conv4(preds)),(3,3))\n",
    "        preds = self.max_pool2d(self.relu(self.conv5(preds)),(1,1))\n",
    "        print(preds.shape)\n",
    "        preds = preds.view(-1,18*12*12)\n",
    "        preds = self.relu(self.linear1(preds))\n",
    "        preds = self.relu(self.linear2(preds))\n",
    "        preds = self.linearbatchnorm3(preds)\n",
    "        preds = self.relu(self.linear4(preds))\n",
    "        preds = self.relu(self.linear5(preds))\n",
    "        return preds"
   ]
  },
  {
   "cell_type": "code",
   "execution_count": 27,
   "id": "fb923b22",
   "metadata": {},
   "outputs": [],
   "source": [
    "model = Model().to(device)\n",
    "criterion = nn.MSELoss()\n",
    "optimizer = torch.optim.Adam(model.parameters(),lr=0.001)\n",
    "batch_size = 32\n",
    "epochs = 100"
   ]
  },
  {
   "cell_type": "code",
   "execution_count": 28,
   "id": "05f195f0",
   "metadata": {},
   "outputs": [],
   "source": [
    "import wandb"
   ]
  },
  {
   "cell_type": "code",
   "execution_count": 29,
   "id": "14f8a3c9",
   "metadata": {},
   "outputs": [],
   "source": [
    "wandb.init(project=PROJECT_NAME,name=\"BaseLine\")\n",
    "for _ in tqdm(range(epochs)):\n",
    "    for idx in range(0,len(X_train),batch_size):\n",
    "        X_batch = X_train[idx:idx+batch_size].view(-1,3,56,56).to(device)\n",
    "        y_batch = y_train[idx:idx+batch_size].to(device)\n",
    "        preds = model(X_batch)\n",
    "        loss = criterion(preds,y_batch)\n",
    "        optimizer.zero_grad()\n",
    "        optimizer.step()\n",
    "        loss.backward()\n",
    "        wandb.log({\n",
    "            \"Test Loss\":get_loss(model,X_test,y_test),\n",
    "            \"Test Accuracy\":get_accuracy(model,X_test,y_test),\n",
    "            \"Accuracy\":get_accuracy(model,X_batch,y_batch),\n",
    "            \"Loss\":get_loss(model,X_batch,y_batch)\n",
    "        })"
   ]
  },
  {
   "cell_type": "code",
   "execution_count": 30,
   "id": "4fa0c71e",
   "metadata": {},
   "outputs": [],
   "source": [
    "class Model(nn.Module):\n",
    "    def __init__(self):\n",
    "        super().__init__()\n",
    "        self.max_pool2d = F.max_pool2d\n",
    "        self.relu = ReLU()\n",
    "        self.conv1 = Conv2d(3,9,3)\n",
    "        self.conv2 = Conv2d(9,12,3)\n",
    "        self.convbatch_norm3 = BatchNorm2d(12)\n",
    "        self.conv4 = Conv2d(12,15,3)\n",
    "        self.conv5 = Conv2d(15,18,3)\n",
    "        self.linear1 = Linear(18*12*12,128)\n",
    "        self.linear2 = Linear(128,256)\n",
    "        self.linearbatchnorm3 = BatchNorm1d(256)\n",
    "        self.linear4 = Linear(256,128)\n",
    "        self.linear5 = Linear(128,idx)\n",
    "    \n",
    "    def forward(self,X):\n",
    "        preds = self.max_pool2d(self.relu(self.conv1(X)),(3,3))\n",
    "        preds = self.max_pool2d(self.relu(self.conv2(preds)),(3,3))\n",
    "        preds = self.convbatch_norm3(preds)\n",
    "        preds = self.max_pool2d(self.relu(self.conv4(preds)),(3,3))\n",
    "        preds = self.max_pool2d(self.relu(self.conv5(preds)),(2,2))\n",
    "        print(preds.shape)\n",
    "        preds = preds.view(-1,18*12*12)\n",
    "        preds = self.relu(self.linear1(preds))\n",
    "        preds = self.relu(self.linear2(preds))\n",
    "        preds = self.linearbatchnorm3(preds)\n",
    "        preds = self.relu(self.linear4(preds))\n",
    "        preds = self.relu(self.linear5(preds))\n",
    "        return preds"
   ]
  },
  {
   "cell_type": "code",
   "execution_count": 31,
   "id": "90c3c696",
   "metadata": {},
   "outputs": [],
   "source": [
    "model = Model().to(device)\n",
    "criterion = nn.MSELoss()\n",
    "optimizer = torch.optim.Adam(model.parameters(),lr=0.001)\n",
    "batch_size = 32\n",
    "epochs = 100"
   ]
  },
  {
   "cell_type": "code",
   "execution_count": 32,
   "id": "19aa2d34",
   "metadata": {},
   "outputs": [],
   "source": [
    "import wandb"
   ]
  },
  {
   "cell_type": "code",
   "execution_count": 33,
   "id": "a0b3ef7f",
   "metadata": {},
   "outputs": [],
   "source": [
    "wandb.init(project=PROJECT_NAME,name=\"BaseLine\")\n",
    "for _ in tqdm(range(epochs)):\n",
    "    for idx in range(0,len(X_train),batch_size):\n",
    "        X_batch = X_train[idx:idx+batch_size].view(-1,3,56,56).to(device)\n",
    "        y_batch = y_train[idx:idx+batch_size].to(device)\n",
    "        preds = model(X_batch)\n",
    "        loss = criterion(preds,y_batch)\n",
    "        optimizer.zero_grad()\n",
    "        optimizer.step()\n",
    "        loss.backward()\n",
    "        wandb.log({\n",
    "            \"Test Loss\":get_loss(model,X_test,y_test),\n",
    "            \"Test Accuracy\":get_accuracy(model,X_test,y_test),\n",
    "            \"Accuracy\":get_accuracy(model,X_batch,y_batch),\n",
    "            \"Loss\":get_loss(model,X_batch,y_batch)\n",
    "        })"
   ]
  },
  {
   "cell_type": "code",
   "execution_count": 34,
   "id": "73879b3c",
   "metadata": {},
   "outputs": [],
   "source": [
    "class Model(nn.Module):\n",
    "    def __init__(self):\n",
    "        super().__init__()\n",
    "        self.max_pool2d = F.max_pool2d\n",
    "        self.relu = ReLU()\n",
    "        self.conv1 = Conv2d(3,8,3)\n",
    "        self.conv2 = Conv2d(8,16,3)\n",
    "        self.convbatch_norm3 = BatchNorm2d(16)\n",
    "        self.conv4 = Conv2d(16,24,3)\n",
    "        self.conv5 = Conv2d(24,32,3)\n",
    "        self.linear1 = Linear(18*12*12,128)\n",
    "        self.linear2 = Linear(128,256)\n",
    "        self.linearbatchnorm3 = BatchNorm1d(256)\n",
    "        self.linear4 = Linear(256,128)\n",
    "        self.linear5 = Linear(128,idx)\n",
    "    \n",
    "    def forward(self,X):\n",
    "        preds = self.max_pool2d(self.relu(self.conv1(X)),(2,2))\n",
    "        preds = self.max_pool2d(self.relu(self.conv2(preds)),(2,2))\n",
    "        preds = self.convbatch_norm3(preds)\n",
    "        preds = self.max_pool2d(self.relu(self.conv4(preds)),(2,2))\n",
    "        preds = self.max_pool2d(self.relu(self.conv5(preds)),(2,2))\n",
    "        print(preds.shape)\n",
    "        preds = preds.view(-1,18*12*12)\n",
    "        preds = self.relu(self.linear1(preds))\n",
    "        preds = self.relu(self.linear2(preds))\n",
    "        preds = self.linearbatchnorm3(preds)\n",
    "        preds = self.relu(self.linear4(preds))\n",
    "        preds = self.relu(self.linear5(preds))\n",
    "        return preds"
   ]
  },
  {
   "cell_type": "code",
   "execution_count": 35,
   "id": "319f0e7e",
   "metadata": {},
   "outputs": [],
   "source": [
    "model = Model().to(device)\n",
    "criterion = nn.MSELoss()\n",
    "optimizer = torch.optim.Adam(model.parameters(),lr=0.001)\n",
    "batch_size = 32\n",
    "epochs = 100"
   ]
  },
  {
   "cell_type": "code",
   "execution_count": 36,
   "id": "37c6b44f",
   "metadata": {},
   "outputs": [],
   "source": [
    "import wandb"
   ]
  },
  {
   "cell_type": "code",
   "execution_count": 37,
   "id": "d47dc867",
   "metadata": {},
   "outputs": [],
   "source": [
    "wandb.init(project=PROJECT_NAME,name=\"BaseLine\")\n",
    "for _ in tqdm(range(epochs)):\n",
    "    for idx in range(0,len(X_train),batch_size):\n",
    "        X_batch = X_train[idx:idx+batch_size].view(-1,3,56,56).to(device)\n",
    "        y_batch = y_train[idx:idx+batch_size].to(device)\n",
    "        preds = model(X_batch)\n",
    "        loss = criterion(preds,y_batch)\n",
    "        optimizer.zero_grad()\n",
    "        optimizer.step()\n",
    "        loss.backward()\n",
    "        wandb.log({\n",
    "            \"Test Loss\":get_loss(model,X_test,y_test),\n",
    "            \"Test Accuracy\":get_accuracy(model,X_test,y_test),\n",
    "            \"Accuracy\":get_accuracy(model,X_batch,y_batch),\n",
    "            \"Loss\":get_loss(model,X_batch,y_batch)\n",
    "        })"
   ]
  },
  {
   "cell_type": "code",
   "execution_count": 38,
   "id": "03e7b67d",
   "metadata": {},
   "outputs": [],
   "source": [
    "class Model(nn.Module):\n",
    "    def __init__(self):\n",
    "        super().__init__()\n",
    "        self.max_pool2d = F.max_pool2d\n",
    "        self.relu = ReLU()\n",
    "        self.conv1 = Conv2d(3,8,3)\n",
    "        self.conv2 = Conv2d(8,16,3)\n",
    "        self.convbatch_norm3 = BatchNorm2d(16)\n",
    "        self.conv4 = Conv2d(16,24,3)\n",
    "        self.conv5 = Conv2d(24,32,3)\n",
    "        self.linear1 = Linear(32*1*1,128)\n",
    "        self.linear2 = Linear(128,256)\n",
    "        self.linearbatchnorm3 = BatchNorm1d(256)\n",
    "        self.linear4 = Linear(256,128)\n",
    "        self.linear5 = Linear(128,idx)\n",
    "    \n",
    "    def forward(self,X):\n",
    "        preds = self.max_pool2d(self.relu(self.conv1(X)),(2,2))\n",
    "        preds = self.max_pool2d(self.relu(self.conv2(preds)),(2,2))\n",
    "        preds = self.convbatch_norm3(preds)\n",
    "        preds = self.max_pool2d(self.relu(self.conv4(preds)),(2,2))\n",
    "        preds = self.max_pool2d(self.relu(self.conv5(preds)),(2,2))\n",
    "        print(preds.shape)\n",
    "        preds = preds.view(-1,32*1*1)\n",
    "        preds = self.relu(self.linear1(preds))\n",
    "        preds = self.relu(self.linear2(preds))\n",
    "        preds = self.linearbatchnorm3(preds)\n",
    "        preds = self.relu(self.linear4(preds))\n",
    "        preds = self.relu(self.linear5(preds))\n",
    "        return preds"
   ]
  },
  {
   "cell_type": "code",
   "execution_count": 39,
   "id": "746c7b42",
   "metadata": {},
   "outputs": [],
   "source": [
    "model = Model().to(device)\n",
    "criterion = nn.MSELoss()\n",
    "optimizer = torch.optim.Adam(model.parameters(),lr=0.001)\n",
    "batch_size = 32\n",
    "epochs = 100"
   ]
  },
  {
   "cell_type": "code",
   "execution_count": 40,
   "id": "d7d0f1ca",
   "metadata": {},
   "outputs": [],
   "source": [
    "import wandb"
   ]
  },
  {
   "cell_type": "code",
   "execution_count": 41,
   "id": "fa3e7acc",
   "metadata": {},
   "outputs": [],
   "source": [
    "wandb.init(project=PROJECT_NAME,name=\"BaseLine\")\n",
    "for _ in tqdm(range(epochs)):\n",
    "    for idx in range(0,len(X_train),batch_size):\n",
    "        X_batch = X_train[idx:idx+batch_size].view(-1,3,56,56).to(device)\n",
    "        y_batch = y_train[idx:idx+batch_size].to(device)\n",
    "        preds = model(X_batch)\n",
    "        loss = criterion(preds,y_batch)\n",
    "        optimizer.zero_grad()\n",
    "        optimizer.step()\n",
    "        loss.backward()\n",
    "        wandb.log({\n",
    "            \"Test Loss\":get_loss(model,X_test,y_test),\n",
    "            \"Test Accuracy\":get_accuracy(model,X_test,y_test),\n",
    "            \"Accuracy\":get_accuracy(model,X_batch,y_batch),\n",
    "            \"Loss\":get_loss(model,X_batch,y_batch)\n",
    "        })"
   ]
  },
  {
   "cell_type": "code",
   "execution_count": 42,
   "id": "d20b2138",
   "metadata": {},
   "outputs": [],
   "source": [
    "class Model(nn.Module):\n",
    "    def __init__(self):\n",
    "        super().__init__()\n",
    "        self.max_pool2d = F.max_pool2d\n",
    "        self.relu = ReLU()\n",
    "        self.conv1 = Conv2d(3,8,5)\n",
    "        self.conv2 = Conv2d(8,16,5)\n",
    "        self.convbatch_norm3 = BatchNorm2d(16)\n",
    "        self.conv4 = Conv2d(16,24,5)\n",
    "        self.conv5 = Conv2d(24,32,5)\n",
    "        self.linear1 = Linear(32*1*1,128)\n",
    "        self.linear2 = Linear(128,256)\n",
    "        self.linearbatchnorm3 = BatchNorm1d(256)\n",
    "        self.linear4 = Linear(256,128)\n",
    "        self.linear5 = Linear(128,idx)\n",
    "    \n",
    "    def forward(self,X):\n",
    "        preds = self.max_pool2d(self.relu(self.conv1(X)),(2,2))\n",
    "        preds = self.max_pool2d(self.relu(self.conv2(preds)),(2,2))\n",
    "        preds = self.convbatch_norm3(preds)\n",
    "        preds = self.max_pool2d(self.relu(self.conv4(preds)),(2,2))\n",
    "        preds = self.max_pool2d(self.relu(self.conv5(preds)),(2,2))\n",
    "        print(preds.shape)\n",
    "        preds = preds.view(-1,32*1*1)\n",
    "        preds = self.relu(self.linear1(preds))\n",
    "        preds = self.relu(self.linear2(preds))\n",
    "        preds = self.linearbatchnorm3(preds)\n",
    "        preds = self.relu(self.linear4(preds))\n",
    "        preds = self.relu(self.linear5(preds))\n",
    "        return preds"
   ]
  },
  {
   "cell_type": "code",
   "execution_count": 43,
   "id": "c4142179",
   "metadata": {},
   "outputs": [],
   "source": [
    "model = Model().to(device)\n",
    "criterion = nn.MSELoss()\n",
    "optimizer = torch.optim.Adam(model.parameters(),lr=0.001)\n",
    "batch_size = 32\n",
    "epochs = 100"
   ]
  },
  {
   "cell_type": "code",
   "execution_count": 44,
   "id": "bb86c3ba",
   "metadata": {},
   "outputs": [],
   "source": [
    "import wandb"
   ]
  },
  {
   "cell_type": "code",
   "execution_count": 45,
   "id": "5142c0e6",
   "metadata": {},
   "outputs": [],
   "source": [
    "wandb.init(project=PROJECT_NAME,name=\"BaseLine\")\n",
    "for _ in tqdm(range(epochs)):\n",
    "    for idx in range(0,len(X_train),batch_size):\n",
    "        X_batch = X_train[idx:idx+batch_size].view(-1,3,56,56).to(device)\n",
    "        y_batch = y_train[idx:idx+batch_size].to(device)\n",
    "        preds = model(X_batch)\n",
    "        loss = criterion(preds,y_batch)\n",
    "        optimizer.zero_grad()\n",
    "        optimizer.step()\n",
    "        loss.backward()\n",
    "        wandb.log({\n",
    "            \"Test Loss\":get_loss(model,X_test,y_test),\n",
    "            \"Test Accuracy\":get_accuracy(model,X_test,y_test),\n",
    "            \"Accuracy\":get_accuracy(model,X_batch,y_batch),\n",
    "            \"Loss\":get_loss(model,X_batch,y_batch)\n",
    "        })"
   ]
  },
  {
   "cell_type": "code",
   "execution_count": 46,
   "id": "11758438",
   "metadata": {},
   "outputs": [],
   "source": [
    "class Model(nn.Module):\n",
    "    def __init__(self):\n",
    "        super().__init__()\n",
    "        self.max_pool2d = F.max_pool2d\n",
    "        self.relu = ReLU()\n",
    "        self.conv1 = Conv2d(3,8,2)\n",
    "        self.conv2 = Conv2d(8,16,2)\n",
    "        self.convbatch_norm3 = BatchNorm2d(16)\n",
    "        self.conv4 = Conv2d(16,24,2)\n",
    "        self.conv5 = Conv2d(24,32,2)\n",
    "        self.linear1 = Linear(32*1*1,128)\n",
    "        self.linear2 = Linear(128,256)\n",
    "        self.linearbatchnorm3 = BatchNorm1d(256)\n",
    "        self.linear4 = Linear(256,128)\n",
    "        self.linear5 = Linear(128,idx)\n",
    "    \n",
    "    def forward(self,X):\n",
    "        preds = self.max_pool2d(self.relu(self.conv1(X)),(2,2))\n",
    "        preds = self.max_pool2d(self.relu(self.conv2(preds)),(2,2))\n",
    "        preds = self.convbatch_norm3(preds)\n",
    "        preds = self.max_pool2d(self.relu(self.conv4(preds)),(2,2))\n",
    "        preds = self.max_pool2d(self.relu(self.conv5(preds)),(2,2))\n",
    "        print(preds.shape)\n",
    "        preds = preds.view(-1,32*1*1)\n",
    "        preds = self.relu(self.linear1(preds))\n",
    "        preds = self.relu(self.linear2(preds))\n",
    "        preds = self.linearbatchnorm3(preds)\n",
    "        preds = self.relu(self.linear4(preds))\n",
    "        preds = self.relu(self.linear5(preds))\n",
    "        return preds"
   ]
  },
  {
   "cell_type": "code",
   "execution_count": 47,
   "id": "94029128",
   "metadata": {},
   "outputs": [],
   "source": [
    "model = Model().to(device)\n",
    "criterion = nn.MSELoss()\n",
    "optimizer = torch.optim.Adam(model.parameters(),lr=0.001)\n",
    "batch_size = 32\n",
    "epochs = 100"
   ]
  },
  {
   "cell_type": "code",
   "execution_count": 48,
   "id": "4a6e361f",
   "metadata": {},
   "outputs": [],
   "source": [
    "import wandb"
   ]
  },
  {
   "cell_type": "code",
   "execution_count": 49,
   "id": "37dba86d",
   "metadata": {},
   "outputs": [],
   "source": [
    "wandb.init(project=PROJECT_NAME,name=\"BaseLine\")\n",
    "for _ in tqdm(range(epochs)):\n",
    "    for idx in range(0,len(X_train),batch_size):\n",
    "        X_batch = X_train[idx:idx+batch_size].view(-1,3,56,56).to(device)\n",
    "        y_batch = y_train[idx:idx+batch_size].to(device)\n",
    "        preds = model(X_batch)\n",
    "        loss = criterion(preds,y_batch)\n",
    "        optimizer.zero_grad()\n",
    "        optimizer.step()\n",
    "        loss.backward()\n",
    "        wandb.log({\n",
    "            \"Test Loss\":get_loss(model,X_test,y_test),\n",
    "            \"Test Accuracy\":get_accuracy(model,X_test,y_test),\n",
    "            \"Accuracy\":get_accuracy(model,X_batch,y_batch),\n",
    "            \"Loss\":get_loss(model,X_batch,y_batch)\n",
    "        })"
   ]
  },
  {
   "cell_type": "code",
   "execution_count": 50,
   "id": "1d0d1647",
   "metadata": {},
   "outputs": [],
   "source": [
    "class Model(nn.Module):\n",
    "    def __init__(self):\n",
    "        super().__init__()\n",
    "        self.max_pool2d = F.max_pool2d\n",
    "        self.relu = ReLU()\n",
    "        self.conv1 = Conv2d(3,8,2)\n",
    "        self.conv2 = Conv2d(8,16,2)\n",
    "        self.convbatch_norm3 = BatchNorm2d(16)\n",
    "        self.conv4 = Conv2d(16,24,2)\n",
    "        self.conv5 = Conv2d(24,32,2)\n",
    "        self.linear1 = Linear(32*2*2,128)\n",
    "        self.linear2 = Linear(128,256)\n",
    "        self.linearbatchnorm3 = BatchNorm1d(256)\n",
    "        self.linear4 = Linear(256,128)\n",
    "        self.linear5 = Linear(128,idx)\n",
    "    \n",
    "    def forward(self,X):\n",
    "        preds = self.max_pool2d(self.relu(self.conv1(X)),(2,2))\n",
    "        preds = self.max_pool2d(self.relu(self.conv2(preds)),(2,2))\n",
    "        preds = self.convbatch_norm3(preds)\n",
    "        preds = self.max_pool2d(self.relu(self.conv4(preds)),(2,2))\n",
    "        preds = self.max_pool2d(self.relu(self.conv5(preds)),(2,2))\n",
    "        print(preds.shape)\n",
    "        preds = preds.view(-1,32*2*2)\n",
    "        preds = self.relu(self.linear1(preds))\n",
    "        preds = self.relu(self.linear2(preds))\n",
    "        preds = self.linearbatchnorm3(preds)\n",
    "        preds = self.relu(self.linear4(preds))\n",
    "        preds = self.relu(self.linear5(preds))\n",
    "        return preds"
   ]
  },
  {
   "cell_type": "code",
   "execution_count": 51,
   "id": "cb332a76",
   "metadata": {},
   "outputs": [],
   "source": [
    "model = Model().to(device)\n",
    "criterion = nn.MSELoss()\n",
    "optimizer = torch.optim.Adam(model.parameters(),lr=0.001)\n",
    "batch_size = 32\n",
    "epochs = 100"
   ]
  },
  {
   "cell_type": "code",
   "execution_count": 52,
   "id": "5459f141",
   "metadata": {},
   "outputs": [],
   "source": [
    "import wandb"
   ]
  },
  {
   "cell_type": "code",
   "execution_count": 53,
   "id": "4c800a9b",
   "metadata": {},
   "outputs": [
    {
     "data": {
      "text/html": [
       "Finishing last run (ID:yn1cajoj) before initializing another..."
      ],
      "text/plain": [
       "<IPython.core.display.HTML object>"
      ]
     },
     "metadata": {},
     "output_type": "display_data"
    },
    {
     "data": {
      "text/html": [
       "Waiting for W&B process to finish... <strong style=\"color:green\">(success).</strong>"
      ],
      "text/plain": [
       "<IPython.core.display.HTML object>"
      ]
     },
     "metadata": {},
     "output_type": "display_data"
    },
    {
     "data": {
      "application/vnd.jupyter.widget-view+json": {
       "model_id": "d38b5107ec764091a81592e6d110f4a4",
       "version_major": 2,
       "version_minor": 0
      },
      "text/plain": [
       "VBox(children=(Label(value='0.001 MB of 0.001 MB uploaded (0.000 MB deduped)\\r'), FloatProgress(value=1.0, max…"
      ]
     },
     "metadata": {},
     "output_type": "display_data"
    },
    {
     "data": {
      "text/html": [
       "Synced <strong style=\"color:#cdcd00\">BaseLine</strong>: <a href=\"https://wandb.ai/ranuga-d/Intel-Classification-V3/runs/yn1cajoj\" target=\"_blank\">https://wandb.ai/ranuga-d/Intel-Classification-V3/runs/yn1cajoj</a><br/>Synced 5 W&B file(s), 0 media file(s), 0 artifact file(s) and 0 other file(s)"
      ],
      "text/plain": [
       "<IPython.core.display.HTML object>"
      ]
     },
     "metadata": {},
     "output_type": "display_data"
    },
    {
     "data": {
      "text/html": [
       "Find logs at: <code>./wandb/run-20220427_101413-yn1cajoj/logs</code>"
      ],
      "text/plain": [
       "<IPython.core.display.HTML object>"
      ]
     },
     "metadata": {},
     "output_type": "display_data"
    },
    {
     "data": {
      "text/html": [
       "Successfully finished last run (ID:yn1cajoj). Initializing new run:<br/>"
      ],
      "text/plain": [
       "<IPython.core.display.HTML object>"
      ]
     },
     "metadata": {},
     "output_type": "display_data"
    },
    {
     "data": {
      "text/html": [
       "Tracking run with wandb version 0.12.15"
      ],
      "text/plain": [
       "<IPython.core.display.HTML object>"
      ]
     },
     "metadata": {},
     "output_type": "display_data"
    },
    {
     "data": {
      "text/html": [
       "Run data is saved locally in <code>/media/indika/Sync/Programmer-RD-AI/Programming/Projects/Python/All/Intel-Image-Classification-V3/wandb/run-20220427_101445-1vvcedj9</code>"
      ],
      "text/plain": [
       "<IPython.core.display.HTML object>"
      ]
     },
     "metadata": {},
     "output_type": "display_data"
    },
    {
     "data": {
      "text/html": [
       "Syncing run <strong><a href=\"https://wandb.ai/ranuga-d/Intel-Classification-V3/runs/1vvcedj9\" target=\"_blank\">BaseLine</a></strong> to <a href=\"https://wandb.ai/ranuga-d/Intel-Classification-V3\" target=\"_blank\">Weights & Biases</a> (<a href=\"https://wandb.me/run\" target=\"_blank\">docs</a>)<br/>"
      ],
      "text/plain": [
       "<IPython.core.display.HTML object>"
      ]
     },
     "metadata": {},
     "output_type": "display_data"
    }
   ],
   "source": [
    "wandb.init(project=PROJECT_NAME,name=\"BaseLine\")\n",
    "for _ in tqdm(range(epochs)):\n",
    "    for idx in range(0,len(X_train),batch_size):\n",
    "        X_batch = X_train[idx:idx+batch_size].view(-1,3,56,56).to(device)\n",
    "        y_batch = y_train[idx:idx+batch_size].to(device)\n",
    "        preds = model(X_batch)\n",
    "        loss = criterion(preds,y_batch)\n",
    "        optimizer.zero_grad()\n",
    "        optimizer.step()\n",
    "        loss.backward()\n",
    "        wandb.log({\n",
    "            \"Test Loss\":get_loss(model,X_test,y_test),\n",
    "            \"Test Accuracy\":get_accuracy(model,X_test,y_test),\n",
    "            \"Accuracy\":get_accuracy(model,X_batch,y_batch),\n",
    "            \"Loss\":get_loss(model,X_batch,y_batch)\n",
    "        })"
   ]
  },
  {
   "cell_type": "code",
   "execution_count": 54,
   "id": "d045f2c9",
   "metadata": {},
   "outputs": [
    {
     "name": "stdout",
     "output_type": "stream",
     "text": [
      "tensor([], device='cuda:0', size=(32, 0), grad_fn=<ReluBackward0>)"
     ]
    }
   ],
   "source": [
    "preds"
   ]
  },
  {
   "cell_type": "code",
   "execution_count": 55,
   "id": "06cc30d2",
   "metadata": {},
   "outputs": [],
   "source": [
    "class Model(nn.Module):\n",
    "    def __init__(self):\n",
    "        super().__init__()\n",
    "        self.conv1 = nn.Conv2d(3,32,5)\n",
    "        self.conv2 = nn.Conv2d(32,64,5)\n",
    "        self.conv2batchnorm = nn.BatchNorm2d(64)\n",
    "        self.conv3 = nn.Conv2d(64,128,5)\n",
    "        self.fc1 = nn.Linear(128*10*10,256)\n",
    "        self.fc2 = nn.Linear(256,128)\n",
    "        self.fc3 = nn.Linear(128,50)\n",
    "        self.relu = nn.ReLU()\n",
    "    \n",
    "    def forward(self,X):\n",
    "        preds = F.max_pool2d(self.relu(self.conv1(X)),(2,2))\n",
    "        preds = F.max_pool2d(self.relu(self.conv2batchnorm(self.conv2(preds))),(2,2))\n",
    "        preds = F.max_pool2d(self.relu(self.conv3(preds)),(2,2))\n",
    "        preds = preds.view(-1,128*10*10)\n",
    "        preds = self.relu(self.fc1(preds))\n",
    "        preds = self.relu(self.fc2(preds))\n",
    "        preds = self.relu(self.fc3(preds))\n",
    "        return preds"
   ]
  },
  {
   "cell_type": "code",
   "execution_count": 56,
   "id": "a6726ed2",
   "metadata": {},
   "outputs": [],
   "source": [
    "model = Model().to(device)\n",
    "criterion = nn.MSELoss()\n",
    "optimizer = torch.optim.Adam(model.parameters(),lr=0.001)\n",
    "batch_size = 32\n",
    "epochs = 100"
   ]
  },
  {
   "cell_type": "code",
   "execution_count": 57,
   "id": "0166efca",
   "metadata": {},
   "outputs": [],
   "source": [
    "import wandb"
   ]
  },
  {
   "cell_type": "code",
   "execution_count": 58,
   "id": "d86a5361",
   "metadata": {},
   "outputs": [],
   "source": [
    "wandb.init(project=PROJECT_NAME,name=\"BaseLine\")\n",
    "for _ in tqdm(range(epochs)):\n",
    "    for idx in range(0,len(X_train),batch_size):\n",
    "        X_batch = X_train[idx:idx+batch_size].view(-1,3,56,56).to(device)\n",
    "        y_batch = y_train[idx:idx+batch_size].to(device)\n",
    "        preds = model(X_batch)\n",
    "        loss = criterion(preds,y_batch)\n",
    "        optimizer.zero_grad()\n",
    "        optimizer.step()\n",
    "        loss.backward()\n",
    "        wandb.log({\n",
    "            \"Test Loss\":get_loss(model,X_test,y_test),\n",
    "            \"Test Accuracy\":get_accuracy(model,X_test,y_test),\n",
    "            \"Accuracy\":get_accuracy(model,X_batch,y_batch),\n",
    "            \"Loss\":get_loss(model,X_batch,y_batch)\n",
    "        })"
   ]
  }
 ],
 "metadata": {
  "kernelspec": {
   "display_name": "Python 3",
   "language": "python",
   "name": "python3"
  },
  "language_info": {
   "codemirror_mode": {
    "name": "ipython",
    "version": 3
   },
   "file_extension": ".py",
   "mimetype": "text/x-python",
   "name": "python",
   "nbconvert_exporter": "python",
   "pygments_lexer": "ipython3",
   "version": "3.8.10"
  }
 },
 "nbformat": 4,
 "nbformat_minor": 5
}
